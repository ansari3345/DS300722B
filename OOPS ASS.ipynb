{
 "cells": [
  {
   "cell_type": "code",
   "execution_count": 1,
   "id": "afaf0373",
   "metadata": {},
   "outputs": [
    {
     "name": "stdout",
     "output_type": "stream",
     "text": [
      "Enter the number :5\n",
      "Enter the power of number :2\n"
     ]
    },
    {
     "data": {
      "text/plain": [
       "25"
      ]
     },
     "execution_count": 1,
     "metadata": {},
     "output_type": "execute_result"
    }
   ],
   "source": [
    "class power_of_no :\n",
    "    def number(self):\n",
    "        a=int(input('Enter the number :'))\n",
    "        b=int(input('Enter the power of number :'))\n",
    "        return a**b\n",
    "h=power_of_no()\n",
    "h.number()"
   ]
  },
  {
   "cell_type": "code",
   "execution_count": null,
   "id": "702ad217",
   "metadata": {},
   "outputs": [],
   "source": []
  }
 ],
 "metadata": {
  "kernelspec": {
   "display_name": "Python 3 (ipykernel)",
   "language": "python",
   "name": "python3"
  },
  "language_info": {
   "codemirror_mode": {
    "name": "ipython",
    "version": 3
   },
   "file_extension": ".py",
   "mimetype": "text/x-python",
   "name": "python",
   "nbconvert_exporter": "python",
   "pygments_lexer": "ipython3",
   "version": "3.9.7"
  }
 },
 "nbformat": 4,
 "nbformat_minor": 5
}
