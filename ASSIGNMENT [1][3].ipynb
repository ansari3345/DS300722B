{
 "cells": [
  {
   "cell_type": "markdown",
   "id": "7af06cb8",
   "metadata": {},
   "source": [
    "# Don't go ouside on odd day\n",
    "\n"
   ]
  },
  {
   "cell_type": "code",
   "execution_count": 4,
   "id": "970d497b",
   "metadata": {},
   "outputs": [
    {
     "name": "stdout",
     "output_type": "stream",
     "text": [
      "No of even number in ANSARI 4\n",
      "No fo odd number in ANSARI 5\n"
     ]
    }
   ],
   "source": [
    "ansari=[1,2,3,4,5,6,7,8,9]\n",
    "count_even=0\n",
    "count_odd=0\n",
    "for n in ansari:\n",
    "    if n%2==0:\n",
    "        count_even+=1\n",
    "    else:\n",
    "        count_odd+=1\n",
    "print(\"No of even number in ANSARI\",count_even)\n",
    "print(\"No fo odd number in ANSARI\",count_odd)"
   ]
  },
  {
   "cell_type": "code",
   "execution_count": null,
   "id": "8587314b",
   "metadata": {},
   "outputs": [],
   "source": []
  },
  {
   "cell_type": "code",
   "execution_count": null,
   "id": "ff372251",
   "metadata": {},
   "outputs": [],
   "source": []
  }
 ],
 "metadata": {
  "kernelspec": {
   "display_name": "Python 3",
   "language": "python",
   "name": "python3"
  },
  "language_info": {
   "codemirror_mode": {
    "name": "ipython",
    "version": 3
   },
   "file_extension": ".py",
   "mimetype": "text/x-python",
   "name": "python",
   "nbconvert_exporter": "python",
   "pygments_lexer": "ipython3",
   "version": "3.8.8"
  }
 },
 "nbformat": 4,
 "nbformat_minor": 5
}
