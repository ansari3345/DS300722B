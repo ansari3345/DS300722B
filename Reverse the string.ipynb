{
 "cells": [
  {
   "cell_type": "code",
   "execution_count": 11,
   "id": "41d5ed7b",
   "metadata": {},
   "outputs": [
    {
     "name": "stdout",
     "output_type": "stream",
     "text": [
      "The string you want to reverse : Edyoda\n",
      "The original string  Edyoda\n",
      "The reversed string adoydE\n"
     ]
    }
   ],
   "source": [
    "#simple way to reverse a string\n",
    "\n",
    "def reverse(str):\n",
    "    return str[::-1]\n",
    "\n",
    "str1=str(input(\"The string you want to reverse : \"))\n",
    "print(\"The original string \", str1)\n",
    "print(\"The reversed string\",reverse(str1))"
   ]
  },
  {
   "cell_type": "code",
   "execution_count": null,
   "id": "e8b7c684",
   "metadata": {},
   "outputs": [],
   "source": []
  }
 ],
 "metadata": {
  "kernelspec": {
   "display_name": "Python 3 (ipykernel)",
   "language": "python",
   "name": "python3"
  },
  "language_info": {
   "codemirror_mode": {
    "name": "ipython",
    "version": 3
   },
   "file_extension": ".py",
   "mimetype": "text/x-python",
   "name": "python",
   "nbconvert_exporter": "python",
   "pygments_lexer": "ipython3",
   "version": "3.9.7"
  }
 },
 "nbformat": 4,
 "nbformat_minor": 5
}
