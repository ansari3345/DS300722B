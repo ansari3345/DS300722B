{
 "cells": [
  {
   "cell_type": "code",
   "execution_count": 13,
   "id": "9eca7f88",
   "metadata": {},
   "outputs": [
    {
     "name": "stdout",
     "output_type": "stream",
     "text": [
      "The original :  Kunal Sir Is FunnY\n",
      "NO OF UPPERCASE LETTERS: 5\n",
      "no of lowercase letters: 13\n"
     ]
    }
   ],
   "source": [
    "string = \"Kunal Sir Is FunnY\"\n",
    "\n",
    "def counting(str):\n",
    "    count_upper=0\n",
    "    count_lower=0\n",
    "    for i in str:\n",
    "        if i.isupper() :\n",
    "            count_upper += 1\n",
    "        elif i.lower() :\n",
    "            count_lower += 1\n",
    "        else:\n",
    "            pass\n",
    "\n",
    "    print(\"The original : \",string)\n",
    "    print(\"NO OF UPPERCASE LETTERS:\", count_upper)\n",
    "    print(\"no of lowercase letters:\", count_lower)\n",
    "counting(string)"
   ]
  },
  {
   "cell_type": "code",
   "execution_count": null,
   "id": "83f91dcf",
   "metadata": {},
   "outputs": [],
   "source": [
    " \n"
   ]
  },
  {
   "cell_type": "code",
   "execution_count": null,
   "id": "a30b61e8",
   "metadata": {},
   "outputs": [],
   "source": [
    "\n",
    "\n"
   ]
  }
 ],
 "metadata": {
  "kernelspec": {
   "display_name": "Python 3 (ipykernel)",
   "language": "python",
   "name": "python3"
  },
  "language_info": {
   "codemirror_mode": {
    "name": "ipython",
    "version": 3
   },
   "file_extension": ".py",
   "mimetype": "text/x-python",
   "name": "python",
   "nbconvert_exporter": "python",
   "pygments_lexer": "ipython3",
   "version": "3.9.7"
  }
 },
 "nbformat": 4,
 "nbformat_minor": 5
}
