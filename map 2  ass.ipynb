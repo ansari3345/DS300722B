{
 "cells": [
  {
   "cell_type": "code",
   "execution_count": 2,
   "id": "e911c6ac",
   "metadata": {},
   "outputs": [
    {
     "name": "stdout",
     "output_type": "stream",
     "text": [
      "Original List:  [4, 5, 2, 9]\n",
      "[16, 25, 4, 81]\n"
     ]
    }
   ],
   "source": [
    "list2=[4,5,2,9]\n",
    "def square_num(n):\n",
    "  return n * n\n",
    "\n",
    "print(\"Original List: \",list2)\n",
    "result = map(square_num, list2)\n",
    "\n",
    "print(list(result))\n"
   ]
  },
  {
   "cell_type": "code",
   "execution_count": null,
   "id": "e230bedc",
   "metadata": {},
   "outputs": [],
   "source": []
  }
 ],
 "metadata": {
  "kernelspec": {
   "display_name": "Python 3 (ipykernel)",
   "language": "python",
   "name": "python3"
  },
  "language_info": {
   "codemirror_mode": {
    "name": "ipython",
    "version": 3
   },
   "file_extension": ".py",
   "mimetype": "text/x-python",
   "name": "python",
   "nbconvert_exporter": "python",
   "pygments_lexer": "ipython3",
   "version": "3.9.7"
  }
 },
 "nbformat": 4,
 "nbformat_minor": 5
}
