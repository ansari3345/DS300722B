{
 "cells": [
  {
   "cell_type": "code",
   "execution_count": 39,
   "id": "2abc419f",
   "metadata": {},
   "outputs": [
    {
     "name": "stdout",
     "output_type": "stream",
     "text": [
      "8 + 2 + 3 + 0 + 7 + = 20\n"
     ]
    }
   ],
   "source": [
    "game=[8,2,3,0,7]\n",
    "\n",
    "def sum(function):\n",
    "    summation = 0\n",
    "    for i in game:\n",
    "        summation = summation + i\n",
    "        print(i , end=\" + \")\n",
    "    print(  \"=\" ,summation )\n",
    "\n",
    "sum(game)"
   ]
  },
  {
   "cell_type": "code",
   "execution_count": null,
   "id": "6aaf3e7e",
   "metadata": {},
   "outputs": [],
   "source": []
  },
  {
   "cell_type": "code",
   "execution_count": null,
   "id": "7f90f3d8",
   "metadata": {},
   "outputs": [],
   "source": []
  }
 ],
 "metadata": {
  "kernelspec": {
   "display_name": "Python 3 (ipykernel)",
   "language": "python",
   "name": "python3"
  },
  "language_info": {
   "codemirror_mode": {
    "name": "ipython",
    "version": 3
   },
   "file_extension": ".py",
   "mimetype": "text/x-python",
   "name": "python",
   "nbconvert_exporter": "python",
   "pygments_lexer": "ipython3",
   "version": "3.9.7"
  }
 },
 "nbformat": 4,
 "nbformat_minor": 5
}
