{
 "cells": [
  {
   "cell_type": "markdown",
   "id": "56fa483e",
   "metadata": {},
   "source": [
    "# FIBONACCI SERIES"
   ]
  },
  {
   "cell_type": "code",
   "execution_count": 27,
   "id": "dfc991d9",
   "metadata": {},
   "outputs": [
    {
     "name": "stdout",
     "output_type": "stream",
     "text": [
      "1\n",
      "2\n",
      "3\n",
      "5\n",
      "8\n",
      "13\n",
      "21\n",
      "34\n"
     ]
    }
   ],
   "source": [
    "first_num=1\n",
    "second_num=0\n",
    "for i in range(8):\n",
    "    sum=second_num\n",
    "    second_num=first_num\n",
    "    first_num=sum + second_num\n",
    "    print(first_num)"
   ]
  },
  {
   "cell_type": "code",
   "execution_count": null,
   "id": "08c3502f",
   "metadata": {},
   "outputs": [],
   "source": []
  }
 ],
 "metadata": {
  "kernelspec": {
   "display_name": "Python 3",
   "language": "python",
   "name": "python3"
  },
  "language_info": {
   "codemirror_mode": {
    "name": "ipython",
    "version": 3
   },
   "file_extension": ".py",
   "mimetype": "text/x-python",
   "name": "python",
   "nbconvert_exporter": "python",
   "pygments_lexer": "ipython3",
   "version": "3.8.8"
  }
 },
 "nbformat": 4,
 "nbformat_minor": 5
}
